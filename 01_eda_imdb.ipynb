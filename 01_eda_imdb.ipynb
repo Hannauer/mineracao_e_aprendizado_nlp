{
  "nbformat": 4,
  "nbformat_minor": 0,
  "metadata": {
    "colab": {
      "name": "01_eda_imdb.ipynb",
      "provenance": [],
      "collapsed_sections": [],
      "toc_visible": true,
      "include_colab_link": true
    },
    "kernelspec": {
      "name": "python3",
      "display_name": "Python 3"
    }
  },
  "cells": [
    {
      "cell_type": "markdown",
      "metadata": {
        "id": "view-in-github",
        "colab_type": "text"
      },
      "source": [
        "<a href=\"https://colab.research.google.com/github/Hannauer/mineracao_e_aprendizado_nlp/blob/main/01_eda_imdb.ipynb\" target=\"_parent\"><img src=\"https://colab.research.google.com/assets/colab-badge.svg\" alt=\"Open In Colab\"/></a>"
      ]
    },
    {
      "cell_type": "code",
      "metadata": {
        "id": "fcv3lSQ1IJ4X",
        "outputId": "6b9167a4-16fa-43a7-9e3e-70c440051a14",
        "colab": {
          "base_uri": "https://localhost:8080/",
          "height": 322
        }
      },
      "source": [
        "!pip install contractions"
      ],
      "execution_count": null,
      "outputs": [
        {
          "output_type": "stream",
          "text": [
            "Collecting contractions\n",
            "  Downloading https://files.pythonhosted.org/packages/00/92/a05b76a692ac08d470ae5c23873cf1c9a041532f1ee065e74b374f218306/contractions-0.0.25-py2.py3-none-any.whl\n",
            "Collecting textsearch\n",
            "  Downloading https://files.pythonhosted.org/packages/42/a8/03407021f9555043de5492a2bd7a35c56cc03c2510092b5ec018cae1bbf1/textsearch-0.0.17-py2.py3-none-any.whl\n",
            "Collecting Unidecode\n",
            "\u001b[?25l  Downloading https://files.pythonhosted.org/packages/d0/42/d9edfed04228bacea2d824904cae367ee9efd05e6cce7ceaaedd0b0ad964/Unidecode-1.1.1-py2.py3-none-any.whl (238kB)\n",
            "\u001b[K     |████████████████████████████████| 245kB 3.9MB/s \n",
            "\u001b[?25hCollecting pyahocorasick\n",
            "\u001b[?25l  Downloading https://files.pythonhosted.org/packages/f4/9f/f0d8e8850e12829eea2e778f1c90e3c53a9a799b7f412082a5d21cd19ae1/pyahocorasick-1.4.0.tar.gz (312kB)\n",
            "\u001b[K     |████████████████████████████████| 317kB 17.2MB/s \n",
            "\u001b[?25hBuilding wheels for collected packages: pyahocorasick\n",
            "  Building wheel for pyahocorasick (setup.py) ... \u001b[?25l\u001b[?25hdone\n",
            "  Created wheel for pyahocorasick: filename=pyahocorasick-1.4.0-cp36-cp36m-linux_x86_64.whl size=81710 sha256=17f8331414a267b80ff7b7cfad6fd12adc28943d30a6dcf6a8812debebc21034\n",
            "  Stored in directory: /root/.cache/pip/wheels/0a/90/61/87a55f5b459792fbb2b7ba6b31721b06ff5cf6bde541b40994\n",
            "Successfully built pyahocorasick\n",
            "Installing collected packages: Unidecode, pyahocorasick, textsearch, contractions\n",
            "Successfully installed Unidecode-1.1.1 contractions-0.0.25 pyahocorasick-1.4.0 textsearch-0.0.17\n"
          ],
          "name": "stdout"
        }
      ]
    },
    {
      "cell_type": "code",
      "metadata": {
        "id": "_YvcK8w0ALcW"
      },
      "source": [
        "import pandas as pd\n",
        "import os\n",
        "import numpy as np\n",
        "import nltk\n",
        "import string\n",
        "import fasttext\n",
        "import contractions\n",
        "from nltk.tokenize import word_tokenize\n",
        "from nltk.corpus import stopwords, wordnet\n",
        "from nltk.stem import WordNetLemmatizer\n",
        "from nltk import SnowballStemmer\n",
        "from textblob import TextBlob\n",
        "import matplotlib.pyplot as plt\n",
        "import seaborn as sns\n",
        "\n",
        "%matplotlib inline\n",
        "pd.options.mode.chained_assignment = None\n",
        "pd.set_option('display.max_colwidth', 100)"
      ],
      "execution_count": 48,
      "outputs": []
    },
    {
      "cell_type": "code",
      "metadata": {
        "id": "NSaLUZfEBCUq",
        "outputId": "7623ff5f-d745-45ae-b396-b2118b30477a",
        "colab": {
          "base_uri": "https://localhost:8080/",
          "height": 34
        }
      },
      "source": [
        "\n",
        "df = pd.read_csv('/content/IMDB_Dataset.csv', delimiter=',', error_bad_lines=False)\n"
      ],
      "execution_count": 16,
      "outputs": [
        {
          "output_type": "stream",
          "text": [
            "b'Skipping line 4049: expected 2 fields, saw 8\\nSkipping line 4846: expected 2 fields, saw 4\\n'\n"
          ],
          "name": "stderr"
        }
      ]
    },
    {
      "cell_type": "code",
      "metadata": {
        "id": "A62WOvHVJCRg",
        "outputId": "e6acc944-ec33-4cc2-f5ce-61f54eea6792",
        "colab": {
          "base_uri": "https://localhost:8080/",
          "height": 212
        }
      },
      "source": [
        "print(df.shape)\n",
        "df.head()\n"
      ],
      "execution_count": 26,
      "outputs": [
        {
          "output_type": "stream",
          "text": [
            "(54850, 4)\n"
          ],
          "name": "stdout"
        },
        {
          "output_type": "execute_result",
          "data": {
            "text/html": [
              "<div>\n",
              "<style scoped>\n",
              "    .dataframe tbody tr th:only-of-type {\n",
              "        vertical-align: middle;\n",
              "    }\n",
              "\n",
              "    .dataframe tbody tr th {\n",
              "        vertical-align: top;\n",
              "    }\n",
              "\n",
              "    .dataframe thead th {\n",
              "        text-align: right;\n",
              "    }\n",
              "</style>\n",
              "<table border=\"1\" class=\"dataframe\">\n",
              "  <thead>\n",
              "    <tr style=\"text-align: right;\">\n",
              "      <th></th>\n",
              "      <th>review</th>\n",
              "      <th>sentiment</th>\n",
              "      <th>no_contract</th>\n",
              "      <th>review_description_str</th>\n",
              "    </tr>\n",
              "  </thead>\n",
              "  <tbody>\n",
              "    <tr>\n",
              "      <th>0</th>\n",
              "      <td>One of the other reviewers has mentioned that ...</td>\n",
              "      <td>positive</td>\n",
              "      <td>[One, of, the, other, reviewers, has, mentione...</td>\n",
              "      <td>One of the other reviewers has mentioned that ...</td>\n",
              "    </tr>\n",
              "    <tr>\n",
              "      <th>1</th>\n",
              "      <td>A wonderful little production.     The filming...</td>\n",
              "      <td>positive</td>\n",
              "      <td>[A, wonderful, little, production., The, filmi...</td>\n",
              "      <td>A wonderful little production. The filming tec...</td>\n",
              "    </tr>\n",
              "    <tr>\n",
              "      <th>2</th>\n",
              "      <td>I thought this was a wonderful way to spend ti...</td>\n",
              "      <td>positive</td>\n",
              "      <td>[I, thought, this, was, a, wonderful, way, to,...</td>\n",
              "      <td>I thought this was a wonderful way to spend ti...</td>\n",
              "    </tr>\n",
              "    <tr>\n",
              "      <th>3</th>\n",
              "      <td>Basically there's a family where a little boy ...</td>\n",
              "      <td>negative</td>\n",
              "      <td>[Basically, there is, a, family, where, a, lit...</td>\n",
              "      <td>Basically there is a family where a little boy...</td>\n",
              "    </tr>\n",
              "    <tr>\n",
              "      <th>4</th>\n",
              "      <td>Petter Mattei's \"Love in the Time of Money\" is...</td>\n",
              "      <td>positive</td>\n",
              "      <td>[Petter, Mattei's, \"Love, in, the, Time, of, M...</td>\n",
              "      <td>Petter Mattei's \"Love in the Time of Money\" is...</td>\n",
              "    </tr>\n",
              "  </tbody>\n",
              "</table>\n",
              "</div>"
            ],
            "text/plain": [
              "                                              review  ...                             review_description_str\n",
              "0  One of the other reviewers has mentioned that ...  ...  One of the other reviewers has mentioned that ...\n",
              "1  A wonderful little production.     The filming...  ...  A wonderful little production. The filming tec...\n",
              "2  I thought this was a wonderful way to spend ti...  ...  I thought this was a wonderful way to spend ti...\n",
              "3  Basically there's a family where a little boy ...  ...  Basically there is a family where a little boy...\n",
              "4  Petter Mattei's \"Love in the Time of Money\" is...  ...  Petter Mattei's \"Love in the Time of Money\" is...\n",
              "\n",
              "[5 rows x 4 columns]"
            ]
          },
          "metadata": {
            "tags": []
          },
          "execution_count": 26
        }
      ]
    },
    {
      "cell_type": "code",
      "metadata": {
        "id": "ZWl1q0QINvie",
        "outputId": "81ae5d8c-df09-46bc-8c36-ac44f7463758",
        "colab": {
          "base_uri": "https://localhost:8080/",
          "height": 34
        }
      },
      "source": [
        "#verificando se existem valores nulos na targe\n",
        "df['review'].isna().sum()"
      ],
      "execution_count": 20,
      "outputs": [
        {
          "output_type": "execute_result",
          "data": {
            "text/plain": [
              "0"
            ]
          },
          "metadata": {
            "tags": []
          },
          "execution_count": 20
        }
      ]
    },
    {
      "cell_type": "code",
      "metadata": {
        "id": "wxq1RHEgN-Q2",
        "outputId": "a3b1436a-2397-4a85-e5cf-2548af1333cb",
        "colab": {
          "base_uri": "https://localhost:8080/",
          "height": 67
        }
      },
      "source": [
        "#verificando as categorias e suas volumetrias\n",
        "df.sentiment.value_counts()"
      ],
      "execution_count": 21,
      "outputs": [
        {
          "output_type": "execute_result",
          "data": {
            "text/plain": [
              "positive    27512\n",
              "negative    27338\n",
              "Name: sentiment, dtype: int64"
            ]
          },
          "metadata": {
            "tags": []
          },
          "execution_count": 21
        }
      ]
    },
    {
      "cell_type": "code",
      "metadata": {
        "id": "BTBoY_NhDK5R",
        "outputId": "18ed82b8-ac8e-400d-97ed-8bd2e331a44e",
        "colab": {
          "base_uri": "https://localhost:8080/",
          "height": 195
        }
      },
      "source": [
        "#retirando as contrações \n",
        "df['no_contract'] = df['review'].apply(lambda x: [contractions.fix(word) for word in x.split()])\n",
        "df.head()"
      ],
      "execution_count": 19,
      "outputs": [
        {
          "output_type": "execute_result",
          "data": {
            "text/html": [
              "<div>\n",
              "<style scoped>\n",
              "    .dataframe tbody tr th:only-of-type {\n",
              "        vertical-align: middle;\n",
              "    }\n",
              "\n",
              "    .dataframe tbody tr th {\n",
              "        vertical-align: top;\n",
              "    }\n",
              "\n",
              "    .dataframe thead th {\n",
              "        text-align: right;\n",
              "    }\n",
              "</style>\n",
              "<table border=\"1\" class=\"dataframe\">\n",
              "  <thead>\n",
              "    <tr style=\"text-align: right;\">\n",
              "      <th></th>\n",
              "      <th>review</th>\n",
              "      <th>sentiment</th>\n",
              "      <th>no_contract</th>\n",
              "    </tr>\n",
              "  </thead>\n",
              "  <tbody>\n",
              "    <tr>\n",
              "      <th>0</th>\n",
              "      <td>One of the other reviewers has mentioned that ...</td>\n",
              "      <td>positive</td>\n",
              "      <td>[One, of, the, other, reviewers, has, mentione...</td>\n",
              "    </tr>\n",
              "    <tr>\n",
              "      <th>1</th>\n",
              "      <td>A wonderful little production.     The filming...</td>\n",
              "      <td>positive</td>\n",
              "      <td>[A, wonderful, little, production., The, filmi...</td>\n",
              "    </tr>\n",
              "    <tr>\n",
              "      <th>2</th>\n",
              "      <td>I thought this was a wonderful way to spend ti...</td>\n",
              "      <td>positive</td>\n",
              "      <td>[I, thought, this, was, a, wonderful, way, to,...</td>\n",
              "    </tr>\n",
              "    <tr>\n",
              "      <th>3</th>\n",
              "      <td>Basically there's a family where a little boy ...</td>\n",
              "      <td>negative</td>\n",
              "      <td>[Basically, there is, a, family, where, a, lit...</td>\n",
              "    </tr>\n",
              "    <tr>\n",
              "      <th>4</th>\n",
              "      <td>Petter Mattei's \"Love in the Time of Money\" is...</td>\n",
              "      <td>positive</td>\n",
              "      <td>[Petter, Mattei's, \"Love, in, the, Time, of, M...</td>\n",
              "    </tr>\n",
              "  </tbody>\n",
              "</table>\n",
              "</div>"
            ],
            "text/plain": [
              "                                              review  ...                                        no_contract\n",
              "0  One of the other reviewers has mentioned that ...  ...  [One, of, the, other, reviewers, has, mentione...\n",
              "1  A wonderful little production.     The filming...  ...  [A, wonderful, little, production., The, filmi...\n",
              "2  I thought this was a wonderful way to spend ti...  ...  [I, thought, this, was, a, wonderful, way, to,...\n",
              "3  Basically there's a family where a little boy ...  ...  [Basically, there is, a, family, where, a, lit...\n",
              "4  Petter Mattei's \"Love in the Time of Money\" is...  ...  [Petter, Mattei's, \"Love, in, the, Time, of, M...\n",
              "\n",
              "[5 rows x 3 columns]"
            ]
          },
          "metadata": {
            "tags": []
          },
          "execution_count": 19
        }
      ]
    },
    {
      "cell_type": "code",
      "metadata": {
        "id": "-qswSHcSDLZ5",
        "outputId": "be26269f-e563-4b14-801b-ee28888e713d",
        "colab": {
          "base_uri": "https://localhost:8080/",
          "height": 195
        }
      },
      "source": [
        "#transformando as descrições em linhas \n",
        "df['review_description_str'] = [' '.join(map(str, l)) for l in df['no_contract']]\n",
        "df.head()"
      ],
      "execution_count": 22,
      "outputs": [
        {
          "output_type": "execute_result",
          "data": {
            "text/html": [
              "<div>\n",
              "<style scoped>\n",
              "    .dataframe tbody tr th:only-of-type {\n",
              "        vertical-align: middle;\n",
              "    }\n",
              "\n",
              "    .dataframe tbody tr th {\n",
              "        vertical-align: top;\n",
              "    }\n",
              "\n",
              "    .dataframe thead th {\n",
              "        text-align: right;\n",
              "    }\n",
              "</style>\n",
              "<table border=\"1\" class=\"dataframe\">\n",
              "  <thead>\n",
              "    <tr style=\"text-align: right;\">\n",
              "      <th></th>\n",
              "      <th>review</th>\n",
              "      <th>sentiment</th>\n",
              "      <th>no_contract</th>\n",
              "      <th>review_description_str</th>\n",
              "    </tr>\n",
              "  </thead>\n",
              "  <tbody>\n",
              "    <tr>\n",
              "      <th>0</th>\n",
              "      <td>One of the other reviewers has mentioned that ...</td>\n",
              "      <td>positive</td>\n",
              "      <td>[One, of, the, other, reviewers, has, mentione...</td>\n",
              "      <td>One of the other reviewers has mentioned that ...</td>\n",
              "    </tr>\n",
              "    <tr>\n",
              "      <th>1</th>\n",
              "      <td>A wonderful little production.     The filming...</td>\n",
              "      <td>positive</td>\n",
              "      <td>[A, wonderful, little, production., The, filmi...</td>\n",
              "      <td>A wonderful little production. The filming tec...</td>\n",
              "    </tr>\n",
              "    <tr>\n",
              "      <th>2</th>\n",
              "      <td>I thought this was a wonderful way to spend ti...</td>\n",
              "      <td>positive</td>\n",
              "      <td>[I, thought, this, was, a, wonderful, way, to,...</td>\n",
              "      <td>I thought this was a wonderful way to spend ti...</td>\n",
              "    </tr>\n",
              "    <tr>\n",
              "      <th>3</th>\n",
              "      <td>Basically there's a family where a little boy ...</td>\n",
              "      <td>negative</td>\n",
              "      <td>[Basically, there is, a, family, where, a, lit...</td>\n",
              "      <td>Basically there is a family where a little boy...</td>\n",
              "    </tr>\n",
              "    <tr>\n",
              "      <th>4</th>\n",
              "      <td>Petter Mattei's \"Love in the Time of Money\" is...</td>\n",
              "      <td>positive</td>\n",
              "      <td>[Petter, Mattei's, \"Love, in, the, Time, of, M...</td>\n",
              "      <td>Petter Mattei's \"Love in the Time of Money\" is...</td>\n",
              "    </tr>\n",
              "  </tbody>\n",
              "</table>\n",
              "</div>"
            ],
            "text/plain": [
              "                                              review  ...                             review_description_str\n",
              "0  One of the other reviewers has mentioned that ...  ...  One of the other reviewers has mentioned that ...\n",
              "1  A wonderful little production.     The filming...  ...  A wonderful little production. The filming tec...\n",
              "2  I thought this was a wonderful way to spend ti...  ...  I thought this was a wonderful way to spend ti...\n",
              "3  Basically there's a family where a little boy ...  ...  Basically there is a family where a little boy...\n",
              "4  Petter Mattei's \"Love in the Time of Money\" is...  ...  Petter Mattei's \"Love in the Time of Money\" is...\n",
              "\n",
              "[5 rows x 4 columns]"
            ]
          },
          "metadata": {
            "tags": []
          },
          "execution_count": 22
        }
      ]
    },
    {
      "cell_type": "code",
      "metadata": {
        "id": "bvI7Fj28GiDR",
        "outputId": "35aa14c4-edec-493a-8386-bf143b79fada",
        "colab": {
          "base_uri": "https://localhost:8080/",
          "height": 67
        }
      },
      "source": [
        "#dowload do db de pontuação\n",
        "nltk.download('punkt')"
      ],
      "execution_count": null,
      "outputs": [
        {
          "output_type": "stream",
          "text": [
            "[nltk_data] Downloading package punkt to /root/nltk_data...\n",
            "[nltk_data]   Unzipping tokenizers/punkt.zip.\n"
          ],
          "name": "stdout"
        },
        {
          "output_type": "execute_result",
          "data": {
            "text/plain": [
              "True"
            ]
          },
          "metadata": {
            "tags": []
          },
          "execution_count": 29
        }
      ]
    },
    {
      "cell_type": "code",
      "metadata": {
        "id": "9YrMHa6xDLro",
        "outputId": "4ef20bd5-4fe3-4b1d-ceb6-d93b3a7465ae",
        "colab": {
          "base_uri": "https://localhost:8080/",
          "height": 195
        }
      },
      "source": [
        "#tokenizando as palavras\n",
        "df['tokenized'] = df['review_description_str'].apply(word_tokenize)\n",
        "df.head()"
      ],
      "execution_count": 30,
      "outputs": [
        {
          "output_type": "execute_result",
          "data": {
            "text/html": [
              "<div>\n",
              "<style scoped>\n",
              "    .dataframe tbody tr th:only-of-type {\n",
              "        vertical-align: middle;\n",
              "    }\n",
              "\n",
              "    .dataframe tbody tr th {\n",
              "        vertical-align: top;\n",
              "    }\n",
              "\n",
              "    .dataframe thead th {\n",
              "        text-align: right;\n",
              "    }\n",
              "</style>\n",
              "<table border=\"1\" class=\"dataframe\">\n",
              "  <thead>\n",
              "    <tr style=\"text-align: right;\">\n",
              "      <th></th>\n",
              "      <th>review</th>\n",
              "      <th>sentiment</th>\n",
              "      <th>no_contract</th>\n",
              "      <th>review_description_str</th>\n",
              "      <th>tokenized</th>\n",
              "    </tr>\n",
              "  </thead>\n",
              "  <tbody>\n",
              "    <tr>\n",
              "      <th>0</th>\n",
              "      <td>One of the other reviewers has mentioned that ...</td>\n",
              "      <td>positive</td>\n",
              "      <td>[One, of, the, other, reviewers, has, mentione...</td>\n",
              "      <td>One of the other reviewers has mentioned that ...</td>\n",
              "      <td>[One, of, the, other, reviewers, has, mentione...</td>\n",
              "    </tr>\n",
              "    <tr>\n",
              "      <th>1</th>\n",
              "      <td>A wonderful little production.     The filming...</td>\n",
              "      <td>positive</td>\n",
              "      <td>[A, wonderful, little, production., The, filmi...</td>\n",
              "      <td>A wonderful little production. The filming tec...</td>\n",
              "      <td>[A, wonderful, little, production, ., The, fil...</td>\n",
              "    </tr>\n",
              "    <tr>\n",
              "      <th>2</th>\n",
              "      <td>I thought this was a wonderful way to spend ti...</td>\n",
              "      <td>positive</td>\n",
              "      <td>[I, thought, this, was, a, wonderful, way, to,...</td>\n",
              "      <td>I thought this was a wonderful way to spend ti...</td>\n",
              "      <td>[I, thought, this, was, a, wonderful, way, to,...</td>\n",
              "    </tr>\n",
              "    <tr>\n",
              "      <th>3</th>\n",
              "      <td>Basically there's a family where a little boy ...</td>\n",
              "      <td>negative</td>\n",
              "      <td>[Basically, there is, a, family, where, a, lit...</td>\n",
              "      <td>Basically there is a family where a little boy...</td>\n",
              "      <td>[Basically, there, is, a, family, where, a, li...</td>\n",
              "    </tr>\n",
              "    <tr>\n",
              "      <th>4</th>\n",
              "      <td>Petter Mattei's \"Love in the Time of Money\" is...</td>\n",
              "      <td>positive</td>\n",
              "      <td>[Petter, Mattei's, \"Love, in, the, Time, of, M...</td>\n",
              "      <td>Petter Mattei's \"Love in the Time of Money\" is...</td>\n",
              "      <td>[Petter, Mattei, 's, ``, Love, in, the, Time, ...</td>\n",
              "    </tr>\n",
              "  </tbody>\n",
              "</table>\n",
              "</div>"
            ],
            "text/plain": [
              "                                              review  ...                                          tokenized\n",
              "0  One of the other reviewers has mentioned that ...  ...  [One, of, the, other, reviewers, has, mentione...\n",
              "1  A wonderful little production.     The filming...  ...  [A, wonderful, little, production, ., The, fil...\n",
              "2  I thought this was a wonderful way to spend ti...  ...  [I, thought, this, was, a, wonderful, way, to,...\n",
              "3  Basically there's a family where a little boy ...  ...  [Basically, there, is, a, family, where, a, li...\n",
              "4  Petter Mattei's \"Love in the Time of Money\" is...  ...  [Petter, Mattei, 's, ``, Love, in, the, Time, ...\n",
              "\n",
              "[5 rows x 5 columns]"
            ]
          },
          "metadata": {
            "tags": []
          },
          "execution_count": 30
        }
      ]
    },
    {
      "cell_type": "code",
      "metadata": {
        "id": "Q2zn6FNfQv0q",
        "outputId": "77ba33d5-31bb-4c55-f29a-b8ac4294349d",
        "colab": {
          "base_uri": "https://localhost:8080/",
          "height": 279
        }
      },
      "source": [
        "#convertendo todos os caracter para lower case\n",
        "df['lower'] = df['tokenized'].apply(lambda x: [word.lower() for word in x])\n",
        "df.head()"
      ],
      "execution_count": 31,
      "outputs": [
        {
          "output_type": "execute_result",
          "data": {
            "text/html": [
              "<div>\n",
              "<style scoped>\n",
              "    .dataframe tbody tr th:only-of-type {\n",
              "        vertical-align: middle;\n",
              "    }\n",
              "\n",
              "    .dataframe tbody tr th {\n",
              "        vertical-align: top;\n",
              "    }\n",
              "\n",
              "    .dataframe thead th {\n",
              "        text-align: right;\n",
              "    }\n",
              "</style>\n",
              "<table border=\"1\" class=\"dataframe\">\n",
              "  <thead>\n",
              "    <tr style=\"text-align: right;\">\n",
              "      <th></th>\n",
              "      <th>review</th>\n",
              "      <th>sentiment</th>\n",
              "      <th>no_contract</th>\n",
              "      <th>review_description_str</th>\n",
              "      <th>tokenized</th>\n",
              "      <th>lower</th>\n",
              "    </tr>\n",
              "  </thead>\n",
              "  <tbody>\n",
              "    <tr>\n",
              "      <th>0</th>\n",
              "      <td>One of the other reviewers has mentioned that ...</td>\n",
              "      <td>positive</td>\n",
              "      <td>[One, of, the, other, reviewers, has, mentione...</td>\n",
              "      <td>One of the other reviewers has mentioned that ...</td>\n",
              "      <td>[One, of, the, other, reviewers, has, mentione...</td>\n",
              "      <td>[one, of, the, other, reviewers, has, mentione...</td>\n",
              "    </tr>\n",
              "    <tr>\n",
              "      <th>1</th>\n",
              "      <td>A wonderful little production.     The filming...</td>\n",
              "      <td>positive</td>\n",
              "      <td>[A, wonderful, little, production., The, filmi...</td>\n",
              "      <td>A wonderful little production. The filming tec...</td>\n",
              "      <td>[A, wonderful, little, production, ., The, fil...</td>\n",
              "      <td>[a, wonderful, little, production, ., the, fil...</td>\n",
              "    </tr>\n",
              "    <tr>\n",
              "      <th>2</th>\n",
              "      <td>I thought this was a wonderful way to spend ti...</td>\n",
              "      <td>positive</td>\n",
              "      <td>[I, thought, this, was, a, wonderful, way, to,...</td>\n",
              "      <td>I thought this was a wonderful way to spend ti...</td>\n",
              "      <td>[I, thought, this, was, a, wonderful, way, to,...</td>\n",
              "      <td>[i, thought, this, was, a, wonderful, way, to,...</td>\n",
              "    </tr>\n",
              "    <tr>\n",
              "      <th>3</th>\n",
              "      <td>Basically there's a family where a little boy ...</td>\n",
              "      <td>negative</td>\n",
              "      <td>[Basically, there is, a, family, where, a, lit...</td>\n",
              "      <td>Basically there is a family where a little boy...</td>\n",
              "      <td>[Basically, there, is, a, family, where, a, li...</td>\n",
              "      <td>[basically, there, is, a, family, where, a, li...</td>\n",
              "    </tr>\n",
              "    <tr>\n",
              "      <th>4</th>\n",
              "      <td>Petter Mattei's \"Love in the Time of Money\" is...</td>\n",
              "      <td>positive</td>\n",
              "      <td>[Petter, Mattei's, \"Love, in, the, Time, of, M...</td>\n",
              "      <td>Petter Mattei's \"Love in the Time of Money\" is...</td>\n",
              "      <td>[Petter, Mattei, 's, ``, Love, in, the, Time, ...</td>\n",
              "      <td>[petter, mattei, 's, ``, love, in, the, time, ...</td>\n",
              "    </tr>\n",
              "  </tbody>\n",
              "</table>\n",
              "</div>"
            ],
            "text/plain": [
              "                                              review  ...                                              lower\n",
              "0  One of the other reviewers has mentioned that ...  ...  [one, of, the, other, reviewers, has, mentione...\n",
              "1  A wonderful little production.     The filming...  ...  [a, wonderful, little, production, ., the, fil...\n",
              "2  I thought this was a wonderful way to spend ti...  ...  [i, thought, this, was, a, wonderful, way, to,...\n",
              "3  Basically there's a family where a little boy ...  ...  [basically, there, is, a, family, where, a, li...\n",
              "4  Petter Mattei's \"Love in the Time of Money\" is...  ...  [petter, mattei, 's, ``, love, in, the, time, ...\n",
              "\n",
              "[5 rows x 6 columns]"
            ]
          },
          "metadata": {
            "tags": []
          },
          "execution_count": 31
        }
      ]
    },
    {
      "cell_type": "code",
      "metadata": {
        "id": "k3oLMigSRKDE",
        "outputId": "8f78384a-9610-4a50-bc1a-3dc5e7592b9c",
        "colab": {
          "base_uri": "https://localhost:8080/",
          "height": 279
        }
      },
      "source": [
        "#removendo pontuação\n",
        "punc = string.punctuation\n",
        "df['no_punc'] = df['lower'].apply(lambda x: [word for word in x if word not in punc])\n",
        "df.head()"
      ],
      "execution_count": 32,
      "outputs": [
        {
          "output_type": "execute_result",
          "data": {
            "text/html": [
              "<div>\n",
              "<style scoped>\n",
              "    .dataframe tbody tr th:only-of-type {\n",
              "        vertical-align: middle;\n",
              "    }\n",
              "\n",
              "    .dataframe tbody tr th {\n",
              "        vertical-align: top;\n",
              "    }\n",
              "\n",
              "    .dataframe thead th {\n",
              "        text-align: right;\n",
              "    }\n",
              "</style>\n",
              "<table border=\"1\" class=\"dataframe\">\n",
              "  <thead>\n",
              "    <tr style=\"text-align: right;\">\n",
              "      <th></th>\n",
              "      <th>review</th>\n",
              "      <th>sentiment</th>\n",
              "      <th>no_contract</th>\n",
              "      <th>review_description_str</th>\n",
              "      <th>tokenized</th>\n",
              "      <th>lower</th>\n",
              "      <th>no_punc</th>\n",
              "    </tr>\n",
              "  </thead>\n",
              "  <tbody>\n",
              "    <tr>\n",
              "      <th>0</th>\n",
              "      <td>One of the other reviewers has mentioned that ...</td>\n",
              "      <td>positive</td>\n",
              "      <td>[One, of, the, other, reviewers, has, mentione...</td>\n",
              "      <td>One of the other reviewers has mentioned that ...</td>\n",
              "      <td>[One, of, the, other, reviewers, has, mentione...</td>\n",
              "      <td>[one, of, the, other, reviewers, has, mentione...</td>\n",
              "      <td>[one, of, the, other, reviewers, has, mentione...</td>\n",
              "    </tr>\n",
              "    <tr>\n",
              "      <th>1</th>\n",
              "      <td>A wonderful little production.     The filming...</td>\n",
              "      <td>positive</td>\n",
              "      <td>[A, wonderful, little, production., The, filmi...</td>\n",
              "      <td>A wonderful little production. The filming tec...</td>\n",
              "      <td>[A, wonderful, little, production, ., The, fil...</td>\n",
              "      <td>[a, wonderful, little, production, ., the, fil...</td>\n",
              "      <td>[a, wonderful, little, production, the, filmin...</td>\n",
              "    </tr>\n",
              "    <tr>\n",
              "      <th>2</th>\n",
              "      <td>I thought this was a wonderful way to spend ti...</td>\n",
              "      <td>positive</td>\n",
              "      <td>[I, thought, this, was, a, wonderful, way, to,...</td>\n",
              "      <td>I thought this was a wonderful way to spend ti...</td>\n",
              "      <td>[I, thought, this, was, a, wonderful, way, to,...</td>\n",
              "      <td>[i, thought, this, was, a, wonderful, way, to,...</td>\n",
              "      <td>[i, thought, this, was, a, wonderful, way, to,...</td>\n",
              "    </tr>\n",
              "    <tr>\n",
              "      <th>3</th>\n",
              "      <td>Basically there's a family where a little boy ...</td>\n",
              "      <td>negative</td>\n",
              "      <td>[Basically, there is, a, family, where, a, lit...</td>\n",
              "      <td>Basically there is a family where a little boy...</td>\n",
              "      <td>[Basically, there, is, a, family, where, a, li...</td>\n",
              "      <td>[basically, there, is, a, family, where, a, li...</td>\n",
              "      <td>[basically, there, is, a, family, where, a, li...</td>\n",
              "    </tr>\n",
              "    <tr>\n",
              "      <th>4</th>\n",
              "      <td>Petter Mattei's \"Love in the Time of Money\" is...</td>\n",
              "      <td>positive</td>\n",
              "      <td>[Petter, Mattei's, \"Love, in, the, Time, of, M...</td>\n",
              "      <td>Petter Mattei's \"Love in the Time of Money\" is...</td>\n",
              "      <td>[Petter, Mattei, 's, ``, Love, in, the, Time, ...</td>\n",
              "      <td>[petter, mattei, 's, ``, love, in, the, time, ...</td>\n",
              "      <td>[petter, mattei, 's, ``, love, in, the, time, ...</td>\n",
              "    </tr>\n",
              "  </tbody>\n",
              "</table>\n",
              "</div>"
            ],
            "text/plain": [
              "                                              review  ...                                            no_punc\n",
              "0  One of the other reviewers has mentioned that ...  ...  [one, of, the, other, reviewers, has, mentione...\n",
              "1  A wonderful little production.     The filming...  ...  [a, wonderful, little, production, the, filmin...\n",
              "2  I thought this was a wonderful way to spend ti...  ...  [i, thought, this, was, a, wonderful, way, to,...\n",
              "3  Basically there's a family where a little boy ...  ...  [basically, there, is, a, family, where, a, li...\n",
              "4  Petter Mattei's \"Love in the Time of Money\" is...  ...  [petter, mattei, 's, ``, love, in, the, time, ...\n",
              "\n",
              "[5 rows x 7 columns]"
            ]
          },
          "metadata": {
            "tags": []
          },
          "execution_count": 32
        }
      ]
    },
    {
      "cell_type": "code",
      "metadata": {
        "id": "0mAG7jaMRwPo",
        "outputId": "9fdf918c-a4a6-42f9-83d1-b85415fe085b",
        "colab": {
          "base_uri": "https://localhost:8080/",
          "height": 67
        }
      },
      "source": [
        "#download do dic de stop words\n",
        "nltk.download('stopwords')"
      ],
      "execution_count": 34,
      "outputs": [
        {
          "output_type": "stream",
          "text": [
            "[nltk_data] Downloading package stopwords to /root/nltk_data...\n",
            "[nltk_data]   Unzipping corpora/stopwords.zip.\n"
          ],
          "name": "stdout"
        },
        {
          "output_type": "execute_result",
          "data": {
            "text/plain": [
              "True"
            ]
          },
          "metadata": {
            "tags": []
          },
          "execution_count": 34
        }
      ]
    },
    {
      "cell_type": "code",
      "metadata": {
        "id": "zHsXLZj-RY3Z",
        "outputId": "3124be91-9ff8-4219-b307-dbaf5f8a1b2a",
        "colab": {
          "base_uri": "https://localhost:8080/",
          "height": 279
        }
      },
      "source": [
        "#removendo stop words\n",
        "stop_words = set(stopwords.words('english'))\n",
        "df['stopwords_removed'] = df['no_punc'].apply(lambda x: [word for word in x if word not in stop_words])\n",
        "df.head()"
      ],
      "execution_count": 35,
      "outputs": [
        {
          "output_type": "execute_result",
          "data": {
            "text/html": [
              "<div>\n",
              "<style scoped>\n",
              "    .dataframe tbody tr th:only-of-type {\n",
              "        vertical-align: middle;\n",
              "    }\n",
              "\n",
              "    .dataframe tbody tr th {\n",
              "        vertical-align: top;\n",
              "    }\n",
              "\n",
              "    .dataframe thead th {\n",
              "        text-align: right;\n",
              "    }\n",
              "</style>\n",
              "<table border=\"1\" class=\"dataframe\">\n",
              "  <thead>\n",
              "    <tr style=\"text-align: right;\">\n",
              "      <th></th>\n",
              "      <th>review</th>\n",
              "      <th>sentiment</th>\n",
              "      <th>no_contract</th>\n",
              "      <th>review_description_str</th>\n",
              "      <th>tokenized</th>\n",
              "      <th>lower</th>\n",
              "      <th>no_punc</th>\n",
              "      <th>stopwords_removed</th>\n",
              "    </tr>\n",
              "  </thead>\n",
              "  <tbody>\n",
              "    <tr>\n",
              "      <th>0</th>\n",
              "      <td>One of the other reviewers has mentioned that ...</td>\n",
              "      <td>positive</td>\n",
              "      <td>[One, of, the, other, reviewers, has, mentione...</td>\n",
              "      <td>One of the other reviewers has mentioned that ...</td>\n",
              "      <td>[One, of, the, other, reviewers, has, mentione...</td>\n",
              "      <td>[one, of, the, other, reviewers, has, mentione...</td>\n",
              "      <td>[one, of, the, other, reviewers, has, mentione...</td>\n",
              "      <td>[one, reviewers, mentioned, watching, 1, oz, e...</td>\n",
              "    </tr>\n",
              "    <tr>\n",
              "      <th>1</th>\n",
              "      <td>A wonderful little production.     The filming...</td>\n",
              "      <td>positive</td>\n",
              "      <td>[A, wonderful, little, production., The, filmi...</td>\n",
              "      <td>A wonderful little production. The filming tec...</td>\n",
              "      <td>[A, wonderful, little, production, ., The, fil...</td>\n",
              "      <td>[a, wonderful, little, production, ., the, fil...</td>\n",
              "      <td>[a, wonderful, little, production, the, filmin...</td>\n",
              "      <td>[wonderful, little, production, filming, techn...</td>\n",
              "    </tr>\n",
              "    <tr>\n",
              "      <th>2</th>\n",
              "      <td>I thought this was a wonderful way to spend ti...</td>\n",
              "      <td>positive</td>\n",
              "      <td>[I, thought, this, was, a, wonderful, way, to,...</td>\n",
              "      <td>I thought this was a wonderful way to spend ti...</td>\n",
              "      <td>[I, thought, this, was, a, wonderful, way, to,...</td>\n",
              "      <td>[i, thought, this, was, a, wonderful, way, to,...</td>\n",
              "      <td>[i, thought, this, was, a, wonderful, way, to,...</td>\n",
              "      <td>[thought, wonderful, way, spend, time, hot, su...</td>\n",
              "    </tr>\n",
              "    <tr>\n",
              "      <th>3</th>\n",
              "      <td>Basically there's a family where a little boy ...</td>\n",
              "      <td>negative</td>\n",
              "      <td>[Basically, there is, a, family, where, a, lit...</td>\n",
              "      <td>Basically there is a family where a little boy...</td>\n",
              "      <td>[Basically, there, is, a, family, where, a, li...</td>\n",
              "      <td>[basically, there, is, a, family, where, a, li...</td>\n",
              "      <td>[basically, there, is, a, family, where, a, li...</td>\n",
              "      <td>[basically, family, little, boy, jake, thinks,...</td>\n",
              "    </tr>\n",
              "    <tr>\n",
              "      <th>4</th>\n",
              "      <td>Petter Mattei's \"Love in the Time of Money\" is...</td>\n",
              "      <td>positive</td>\n",
              "      <td>[Petter, Mattei's, \"Love, in, the, Time, of, M...</td>\n",
              "      <td>Petter Mattei's \"Love in the Time of Money\" is...</td>\n",
              "      <td>[Petter, Mattei, 's, ``, Love, in, the, Time, ...</td>\n",
              "      <td>[petter, mattei, 's, ``, love, in, the, time, ...</td>\n",
              "      <td>[petter, mattei, 's, ``, love, in, the, time, ...</td>\n",
              "      <td>[petter, mattei, 's, ``, love, time, money, ''...</td>\n",
              "    </tr>\n",
              "  </tbody>\n",
              "</table>\n",
              "</div>"
            ],
            "text/plain": [
              "                                              review  ...                                  stopwords_removed\n",
              "0  One of the other reviewers has mentioned that ...  ...  [one, reviewers, mentioned, watching, 1, oz, e...\n",
              "1  A wonderful little production.     The filming...  ...  [wonderful, little, production, filming, techn...\n",
              "2  I thought this was a wonderful way to spend ti...  ...  [thought, wonderful, way, spend, time, hot, su...\n",
              "3  Basically there's a family where a little boy ...  ...  [basically, family, little, boy, jake, thinks,...\n",
              "4  Petter Mattei's \"Love in the Time of Money\" is...  ...  [petter, mattei, 's, ``, love, time, money, ''...\n",
              "\n",
              "[5 rows x 8 columns]"
            ]
          },
          "metadata": {
            "tags": []
          },
          "execution_count": 35
        }
      ]
    },
    {
      "cell_type": "code",
      "metadata": {
        "id": "NOTen_LvSqYb",
        "outputId": "d48eb65f-8275-4c88-e2e6-077cbdc6e200",
        "colab": {
          "base_uri": "https://localhost:8080/",
          "height": 565
        }
      },
      "source": [
        "#aplicando o stemmer nas palavras\n",
        "stemmer = SnowballStemmer(language='english')\n",
        "df['stemmed'] = df['stopwords_removed'].apply(lambda x: [stemmer.stem(word) for word in x])\n",
        "df.head()\n",
        "\n"
      ],
      "execution_count": 45,
      "outputs": [
        {
          "output_type": "execute_result",
          "data": {
            "text/html": [
              "<div>\n",
              "<style scoped>\n",
              "    .dataframe tbody tr th:only-of-type {\n",
              "        vertical-align: middle;\n",
              "    }\n",
              "\n",
              "    .dataframe tbody tr th {\n",
              "        vertical-align: top;\n",
              "    }\n",
              "\n",
              "    .dataframe thead th {\n",
              "        text-align: right;\n",
              "    }\n",
              "</style>\n",
              "<table border=\"1\" class=\"dataframe\">\n",
              "  <thead>\n",
              "    <tr style=\"text-align: right;\">\n",
              "      <th></th>\n",
              "      <th>review</th>\n",
              "      <th>sentiment</th>\n",
              "      <th>no_contract</th>\n",
              "      <th>review_description_str</th>\n",
              "      <th>tokenized</th>\n",
              "      <th>lower</th>\n",
              "      <th>no_punc</th>\n",
              "      <th>stopwords_removed</th>\n",
              "      <th>stemmed</th>\n",
              "    </tr>\n",
              "  </thead>\n",
              "  <tbody>\n",
              "    <tr>\n",
              "      <th>0</th>\n",
              "      <td>One of the other reviewers has mentioned that ...</td>\n",
              "      <td>positive</td>\n",
              "      <td>[One, of, the, other, reviewers, has, mentione...</td>\n",
              "      <td>One of the other reviewers has mentioned that ...</td>\n",
              "      <td>[One, of, the, other, reviewers, has, mentione...</td>\n",
              "      <td>[one, of, the, other, reviewers, has, mentione...</td>\n",
              "      <td>[one, of, the, other, reviewers, has, mentione...</td>\n",
              "      <td>[one, reviewers, mentioned, watching, 1, oz, e...</td>\n",
              "      <td>[one, review, mention, watch, 1, oz, episod, h...</td>\n",
              "    </tr>\n",
              "    <tr>\n",
              "      <th>1</th>\n",
              "      <td>A wonderful little production.     The filming...</td>\n",
              "      <td>positive</td>\n",
              "      <td>[A, wonderful, little, production., The, filmi...</td>\n",
              "      <td>A wonderful little production. The filming tec...</td>\n",
              "      <td>[A, wonderful, little, production, ., The, fil...</td>\n",
              "      <td>[a, wonderful, little, production, ., the, fil...</td>\n",
              "      <td>[a, wonderful, little, production, the, filmin...</td>\n",
              "      <td>[wonderful, little, production, filming, techn...</td>\n",
              "      <td>[wonder, littl, product, film, techniqu, unass...</td>\n",
              "    </tr>\n",
              "    <tr>\n",
              "      <th>2</th>\n",
              "      <td>I thought this was a wonderful way to spend ti...</td>\n",
              "      <td>positive</td>\n",
              "      <td>[I, thought, this, was, a, wonderful, way, to,...</td>\n",
              "      <td>I thought this was a wonderful way to spend ti...</td>\n",
              "      <td>[I, thought, this, was, a, wonderful, way, to,...</td>\n",
              "      <td>[i, thought, this, was, a, wonderful, way, to,...</td>\n",
              "      <td>[i, thought, this, was, a, wonderful, way, to,...</td>\n",
              "      <td>[thought, wonderful, way, spend, time, hot, su...</td>\n",
              "      <td>[thought, wonder, way, spend, time, hot, summe...</td>\n",
              "    </tr>\n",
              "    <tr>\n",
              "      <th>3</th>\n",
              "      <td>Basically there's a family where a little boy ...</td>\n",
              "      <td>negative</td>\n",
              "      <td>[Basically, there is, a, family, where, a, lit...</td>\n",
              "      <td>Basically there is a family where a little boy...</td>\n",
              "      <td>[Basically, there, is, a, family, where, a, li...</td>\n",
              "      <td>[basically, there, is, a, family, where, a, li...</td>\n",
              "      <td>[basically, there, is, a, family, where, a, li...</td>\n",
              "      <td>[basically, family, little, boy, jake, thinks,...</td>\n",
              "      <td>[basic, famili, littl, boy, jake, think, zombi...</td>\n",
              "    </tr>\n",
              "    <tr>\n",
              "      <th>4</th>\n",
              "      <td>Petter Mattei's \"Love in the Time of Money\" is...</td>\n",
              "      <td>positive</td>\n",
              "      <td>[Petter, Mattei's, \"Love, in, the, Time, of, M...</td>\n",
              "      <td>Petter Mattei's \"Love in the Time of Money\" is...</td>\n",
              "      <td>[Petter, Mattei, 's, ``, Love, in, the, Time, ...</td>\n",
              "      <td>[petter, mattei, 's, ``, love, in, the, time, ...</td>\n",
              "      <td>[petter, mattei, 's, ``, love, in, the, time, ...</td>\n",
              "      <td>[petter, mattei, 's, ``, love, time, money, ''...</td>\n",
              "      <td>[petter, mattei, 's, ``, love, time, money, ''...</td>\n",
              "    </tr>\n",
              "  </tbody>\n",
              "</table>\n",
              "</div>"
            ],
            "text/plain": [
              "                                              review  ...                                            stemmed\n",
              "0  One of the other reviewers has mentioned that ...  ...  [one, review, mention, watch, 1, oz, episod, h...\n",
              "1  A wonderful little production.     The filming...  ...  [wonder, littl, product, film, techniqu, unass...\n",
              "2  I thought this was a wonderful way to spend ti...  ...  [thought, wonder, way, spend, time, hot, summe...\n",
              "3  Basically there's a family where a little boy ...  ...  [basic, famili, littl, boy, jake, think, zombi...\n",
              "4  Petter Mattei's \"Love in the Time of Money\" is...  ...  [petter, mattei, 's, ``, love, time, money, ''...\n",
              "\n",
              "[5 rows x 9 columns]"
            ]
          },
          "metadata": {
            "tags": []
          },
          "execution_count": 45
        }
      ]
    },
    {
      "cell_type": "code",
      "metadata": {
        "id": "ZNLO7EvQTVZE",
        "outputId": "773f842f-3778-4366-d4bb-7a7cc1aedfec",
        "colab": {
          "base_uri": "https://localhost:8080/",
          "height": 279
        }
      },
      "source": [
        "#gerando coeficiente de sentimento\n",
        "df_processed = df[['stemmed', 'sentiment']]\n",
        "\n",
        "df_processed['stemmed_str'] = [' '.join(map(str,l)) for l in df['stemmed']]\n",
        "\n",
        "df_processed['sentiment_score'] = df_processed['stemmed_str'].apply(lambda x: TextBlob(x).sentiment.polarity)\n",
        "df_processed.head()"
      ],
      "execution_count": 51,
      "outputs": [
        {
          "output_type": "execute_result",
          "data": {
            "text/html": [
              "<div>\n",
              "<style scoped>\n",
              "    .dataframe tbody tr th:only-of-type {\n",
              "        vertical-align: middle;\n",
              "    }\n",
              "\n",
              "    .dataframe tbody tr th {\n",
              "        vertical-align: top;\n",
              "    }\n",
              "\n",
              "    .dataframe thead th {\n",
              "        text-align: right;\n",
              "    }\n",
              "</style>\n",
              "<table border=\"1\" class=\"dataframe\">\n",
              "  <thead>\n",
              "    <tr style=\"text-align: right;\">\n",
              "      <th></th>\n",
              "      <th>stemmed</th>\n",
              "      <th>sentiment</th>\n",
              "      <th>stemmed_str</th>\n",
              "      <th>sentiment_score</th>\n",
              "    </tr>\n",
              "  </thead>\n",
              "  <tbody>\n",
              "    <tr>\n",
              "      <th>0</th>\n",
              "      <td>[one, review, mention, watch, 1, oz, episod, hook, right, exact, happen, first, thing, struck, o...</td>\n",
              "      <td>positive</td>\n",
              "      <td>one review mention watch 1 oz episod hook right exact happen first thing struck oz brutal unflin...</td>\n",
              "      <td>0.025782</td>\n",
              "    </tr>\n",
              "    <tr>\n",
              "      <th>1</th>\n",
              "      <td>[wonder, littl, product, film, techniqu, unassuming-, old-time-bbc, fashion, give, comfort, some...</td>\n",
              "      <td>positive</td>\n",
              "      <td>wonder littl product film techniqu unassuming- old-time-bbc fashion give comfort sometim discomf...</td>\n",
              "      <td>0.215476</td>\n",
              "    </tr>\n",
              "    <tr>\n",
              "      <th>2</th>\n",
              "      <td>[thought, wonder, way, spend, time, hot, summer, weekend, sit, air, condit, theater, watch, ligh...</td>\n",
              "      <td>positive</td>\n",
              "      <td>thought wonder way spend time hot summer weekend sit air condit theater watch light-heart comedi...</td>\n",
              "      <td>0.372619</td>\n",
              "    </tr>\n",
              "    <tr>\n",
              "      <th>3</th>\n",
              "      <td>[basic, famili, littl, boy, jake, think, zombi, closet, parent, fight, time, movi, slower, soap,...</td>\n",
              "      <td>negative</td>\n",
              "      <td>basic famili littl boy jake think zombi closet parent fight time movi slower soap opera ... sudd...</td>\n",
              "      <td>0.056250</td>\n",
              "    </tr>\n",
              "    <tr>\n",
              "      <th>4</th>\n",
              "      <td>[petter, mattei, 's, ``, love, time, money, '', visual, stun, film, watch, mr., mattei, offer, u...</td>\n",
              "      <td>positive</td>\n",
              "      <td>petter mattei 's `` love time money '' visual stun film watch mr. mattei offer us vivid portrait...</td>\n",
              "      <td>0.193974</td>\n",
              "    </tr>\n",
              "  </tbody>\n",
              "</table>\n",
              "</div>"
            ],
            "text/plain": [
              "                                                                                               stemmed  ... sentiment_score\n",
              "0  [one, review, mention, watch, 1, oz, episod, hook, right, exact, happen, first, thing, struck, o...  ...        0.025782\n",
              "1  [wonder, littl, product, film, techniqu, unassuming-, old-time-bbc, fashion, give, comfort, some...  ...        0.215476\n",
              "2  [thought, wonder, way, spend, time, hot, summer, weekend, sit, air, condit, theater, watch, ligh...  ...        0.372619\n",
              "3  [basic, famili, littl, boy, jake, think, zombi, closet, parent, fight, time, movi, slower, soap,...  ...        0.056250\n",
              "4  [petter, mattei, 's, ``, love, time, money, '', visual, stun, film, watch, mr., mattei, offer, u...  ...        0.193974\n",
              "\n",
              "[5 rows x 4 columns]"
            ]
          },
          "metadata": {
            "tags": []
          },
          "execution_count": 51
        }
      ]
    },
    {
      "cell_type": "code",
      "metadata": {
        "id": "MhEFRePXZzp6"
      },
      "source": [
        "#salvando o novo data frame\n",
        "df.to_pickle('processed_imdb.pkl')"
      ],
      "execution_count": 52,
      "outputs": []
    }
  ]
}